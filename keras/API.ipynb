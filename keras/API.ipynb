{
 "cells": [
  {
   "cell_type": "code",
   "execution_count": 1,
   "id": "f914e8a9",
   "metadata": {},
   "outputs": [],
   "source": [
    "from tensorflow import keras\n",
    "from tensorflow.keras import layers, models"
   ]
  },
  {
   "cell_type": "markdown",
   "id": "41d66b3f",
   "metadata": {},
   "source": [
    "# Sequential"
   ]
  },
  {
   "cell_type": "code",
   "execution_count": null,
   "id": "1b3fa67f",
   "metadata": {},
   "outputs": [],
   "source": [
    "model = models.Sequential([\n",
    "    layers.Dense(8, input_shape=(28,28)),\n",
    "    layers.Desnse(16, input_shape=(28, 28)),\n",
    "])"
   ]
  },
  {
   "cell_type": "markdown",
   "id": "2af1fb58",
   "metadata": {},
   "source": [
    "# Functional"
   ]
  },
  {
   "cell_type": "code",
   "execution_count": 4,
   "id": "23713035",
   "metadata": {},
   "outputs": [],
   "source": [
    "inpt = keras.Input(shape=(784,))\n",
    "\n",
    "x = layers.Dense(64, activation='relu')(inpt)\n",
    "x = layers.Dense(64, activation='relu')(x)\n",
    "\n",
    "output = layers.Dense(10, activation='softmax')(x)"
   ]
  }
 ],
 "metadata": {
  "kernelspec": {
   "display_name": "Python 3",
   "language": "python",
   "name": "python3"
  },
  "language_info": {
   "codemirror_mode": {
    "name": "ipython",
    "version": 3
   },
   "file_extension": ".py",
   "mimetype": "text/x-python",
   "name": "python",
   "nbconvert_exporter": "python",
   "pygments_lexer": "ipython3",
   "version": "3.8.8"
  }
 },
 "nbformat": 4,
 "nbformat_minor": 5
}
