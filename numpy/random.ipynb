{
 "cells": [
  {
   "cell_type": "code",
   "execution_count": 1,
   "id": "0129b089",
   "metadata": {},
   "outputs": [],
   "source": [
    "import numpy as np\n",
    "import pandas as pd\n",
    "import matplotlib.pyplot as plt"
   ]
  },
  {
   "cell_type": "markdown",
   "id": "9f469773",
   "metadata": {},
   "source": [
    "# Random"
   ]
  },
  {
   "cell_type": "code",
   "execution_count": 2,
   "id": "eee941d6",
   "metadata": {},
   "outputs": [
    {
     "data": {
      "text/plain": [
       "(array([  2.,   0.,   0.,   2.,   4.,   5.,   7.,  11.,  12.,  41.,  36.,\n",
       "         61.,  69.,  85., 129., 152., 196., 267., 282., 346., 393., 472.,\n",
       "        495., 512., 586., 544., 559., 576., 586., 506., 484., 458., 381.,\n",
       "        360., 305., 240., 186., 168., 142.,  94.,  77.,  55.,  38.,  26.,\n",
       "         14.,  18.,   9.,   5.,   1.,   3.]),\n",
       " array([-3.86004925, -3.71428619, -3.56852314, -3.42276008, -3.27699703,\n",
       "        -3.13123398, -2.98547092, -2.83970787, -2.69394481, -2.54818176,\n",
       "        -2.40241871, -2.25665565, -2.1108926 , -1.96512955, -1.81936649,\n",
       "        -1.67360344, -1.52784038, -1.38207733, -1.23631428, -1.09055122,\n",
       "        -0.94478817, -0.79902511, -0.65326206, -0.50749901, -0.36173595,\n",
       "        -0.2159729 , -0.07020985,  0.07555321,  0.22131626,  0.36707932,\n",
       "         0.51284237,  0.65860542,  0.80436848,  0.95013153,  1.09589459,\n",
       "         1.24165764,  1.38742069,  1.53318375,  1.6789468 ,  1.82470985,\n",
       "         1.97047291,  2.11623596,  2.26199902,  2.40776207,  2.55352512,\n",
       "         2.69928818,  2.84505123,  2.99081428,  3.13657734,  3.28234039,\n",
       "         3.42810345]),\n",
       " <BarContainer object of 50 artists>)"
      ]
     },
     "execution_count": 2,
     "metadata": {},
     "output_type": "execute_result"
    },
    {
     "data": {
      "image/png": "[encoded data removed]",
      "text/plain": [
       "<Figure size 432x288 with 1 Axes>"
      ]
     },
     "metadata": {
      "needs_background": "light"
     },
     "output_type": "display_data"
    }
   ],
   "source": [
    "plt.hist(np.random.randn(10000), bins=50) # randn: sample of normal distribution"
   ]
  },
  {
   "cell_type": "code",
   "execution_count": 6,
   "id": "b7b25ea7",
   "metadata": {},
   "outputs": [
    {
     "data": {
      "text/plain": [
       "array([0.23181217, 0.9932416 , 0.00805865, 0.75880164, 0.24032096,\n",
       "       0.55366486, 0.09928553, 0.37686636, 0.900809  , 0.85557363])"
      ]
     },
     "execution_count": 6,
     "metadata": {},
     "output_type": "execute_result"
    }
   ],
   "source": [
    "np.random.random(10) # 0 < Random < 1"
   ]
  },
  {
   "cell_type": "code",
   "execution_count": 8,
   "id": "4e05ce80",
   "metadata": {},
   "outputs": [
    {
     "data": {
      "text/plain": [
       "array([9, 1, 0, 7, 2, 4, 8, 3, 6, 5])"
      ]
     },
     "execution_count": 8,
     "metadata": {},
     "output_type": "execute_result"
    }
   ],
   "source": [
    "np.random.permutation(10)"
   ]
  },
  {
   "cell_type": "code",
   "execution_count": 7,
   "id": "3f24bac6",
   "metadata": {},
   "outputs": [
    {
     "data": {
      "text/plain": [
       "array([4, 6, 7, 5, 8, 0, 3, 1, 9, 2])"
      ]
     },
     "execution_count": 7,
     "metadata": {},
     "output_type": "execute_result"
    }
   ],
   "source": [
    "np.random.permutation(10)"
   ]
  },
  {
   "cell_type": "code",
   "execution_count": null,
   "id": "da67ed9f",
   "metadata": {},
   "outputs": [],
   "source": []
  }
 ],
 "metadata": {
  "kernelspec": {
   "display_name": "Python 3",
   "language": "python",
   "name": "python3"
  },
  "language_info": {
   "codemirror_mode": {
    "name": "ipython",
    "version": 3
   },
   "file_extension": ".py",
   "mimetype": "text/x-python",
   "name": "python",
   "nbconvert_exporter": "python",
   "pygments_lexer": "ipython3",
   "version": "3.8.8"
  }
 },
 "nbformat": 4,
 "nbformat_minor": 5
}
